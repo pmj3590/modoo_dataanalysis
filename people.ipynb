{
 "cells": [
  {
   "cell_type": "markdown",
   "metadata": {},
   "source": [
    "# 인구공공데이터 분석하기\n",
    "## 우리동네 인구 구조 시각화하기\n",
    "### 우리동네 (방학동) 인구 구조 시각화 하기"
   ]
  },
  {
   "cell_type": "code",
   "execution_count": 1,
   "metadata": {},
   "outputs": [
    {
     "name": "stdout",
     "output_type": "stream",
     "text": [
      "81\n",
      "100\n",
      "118\n",
      "147\n",
      "159\n",
      "172\n",
      "177\n",
      "185\n",
      "207\n",
      "183\n",
      "209\n",
      "194\n",
      "198\n",
      "242\n",
      "197\n",
      "176\n",
      "234\n",
      "225\n",
      "244\n",
      "303\n",
      "334\n",
      "346\n",
      "367\n",
      "377\n",
      "406\n",
      "410\n",
      "446\n",
      "391\n",
      "403\n",
      "377\n",
      "376\n",
      "326\n",
      "318\n",
      "312\n",
      "281\n",
      "283\n",
      "301\n",
      "347\n",
      "399\n",
      "421\n",
      "375\n",
      "395\n",
      "361\n",
      "375\n",
      "404\n",
      "400\n",
      "437\n",
      "475\n",
      "480\n",
      "516\n",
      "548\n",
      "557\n",
      "573\n",
      "516\n",
      "524\n",
      "526\n",
      "518\n",
      "530\n",
      "539\n",
      "581\n",
      "605\n",
      "543\n",
      "490\n",
      "542\n",
      "514\n",
      "490\n",
      "431\n",
      "328\n",
      "376\n",
      "302\n",
      "299\n",
      "304\n",
      "301\n",
      "312\n",
      "247\n",
      "212\n",
      "229\n",
      "243\n",
      "253\n",
      "199\n",
      "174\n",
      "162\n",
      "115\n",
      "106\n",
      "91\n",
      "91\n",
      "59\n",
      "56\n",
      "44\n",
      "42\n",
      "27\n",
      "29\n",
      "29\n",
      "19\n",
      "10\n",
      "17\n",
      "8\n",
      "7\n",
      "8\n",
      "2\n",
      "13\n",
      "43\n",
      "62\n",
      "76\n",
      "77\n",
      "93\n",
      "96\n",
      "116\n",
      "101\n",
      "128\n",
      "138\n",
      "135\n",
      "121\n",
      "122\n",
      "123\n",
      "121\n",
      "132\n",
      "187\n",
      "170\n",
      "177\n",
      "195\n",
      "237\n",
      "269\n",
      "268\n",
      "273\n",
      "258\n",
      "276\n",
      "287\n",
      "299\n",
      "278\n",
      "252\n",
      "208\n",
      "216\n",
      "200\n",
      "205\n",
      "198\n",
      "230\n",
      "195\n",
      "243\n",
      "236\n",
      "278\n",
      "280\n",
      "268\n",
      "232\n",
      "245\n",
      "230\n",
      "286\n",
      "284\n",
      "330\n",
      "362\n",
      "387\n",
      "407\n",
      "379\n",
      "421\n",
      "360\n",
      "393\n",
      "355\n",
      "339\n",
      "362\n",
      "365\n",
      "403\n",
      "450\n",
      "400\n",
      "359\n",
      "373\n",
      "341\n",
      "351\n",
      "300\n",
      "287\n",
      "299\n",
      "198\n",
      "218\n",
      "233\n",
      "209\n",
      "215\n",
      "203\n",
      "168\n",
      "161\n",
      "166\n",
      "219\n",
      "195\n",
      "115\n",
      "124\n",
      "113\n",
      "85\n",
      "79\n",
      "70\n",
      "50\n",
      "51\n",
      "38\n",
      "26\n",
      "23\n",
      "20\n",
      "19\n",
      "16\n",
      "13\n",
      "7\n",
      "2\n",
      "7\n",
      "1\n",
      "1\n",
      "18\n",
      "91\n",
      "149\n",
      "158\n",
      "182\n",
      "154\n",
      "215\n",
      "243\n",
      "236\n",
      "259\n",
      "266\n",
      "249\n",
      "257\n",
      "296\n",
      "298\n",
      "274\n",
      "236\n",
      "283\n",
      "277\n",
      "266\n",
      "335\n",
      "349\n",
      "312\n",
      "351\n",
      "336\n",
      "306\n",
      "340\n",
      "355\n",
      "337\n",
      "330\n",
      "340\n",
      "314\n",
      "309\n",
      "310\n",
      "284\n",
      "295\n",
      "265\n",
      "321\n",
      "339\n",
      "371\n",
      "361\n",
      "390\n",
      "389\n",
      "341\n",
      "344\n",
      "389\n",
      "395\n",
      "471\n",
      "470\n",
      "492\n",
      "541\n",
      "504\n",
      "491\n",
      "485\n",
      "462\n",
      "432\n",
      "456\n",
      "463\n",
      "471\n",
      "510\n",
      "549\n",
      "603\n",
      "534\n",
      "526\n",
      "503\n",
      "473\n",
      "472\n",
      "422\n",
      "297\n",
      "371\n",
      "217\n",
      "240\n",
      "228\n",
      "236\n",
      "233\n",
      "185\n",
      "140\n",
      "149\n",
      "148\n",
      "184\n",
      "171\n",
      "150\n",
      "122\n",
      "125\n",
      "117\n",
      "101\n",
      "101\n",
      "91\n",
      "85\n",
      "57\n",
      "57\n",
      "32\n",
      "34\n",
      "26\n",
      "20\n",
      "19\n",
      "8\n",
      "9\n",
      "7\n",
      "1\n",
      "2\n",
      "10\n"
     ]
    }
   ],
   "source": [
    "import csv\n",
    "f = open('age1.csv')\n",
    "data = csv.reader(f)\n",
    "\n",
    "\n",
    "for row in data :\n",
    "    if '방학' in row[0] :\n",
    "        for i in row[3:] :\n",
    "            print(i)"
   ]
  },
  {
   "cell_type": "code",
   "execution_count": 2,
   "metadata": {},
   "outputs": [
    {
     "name": "stdout",
     "output_type": "stream",
     "text": [
      "['81', '100', '118', '147', '159', '172', '177', '185', '207', '183', '209', '194', '198', '242', '197', '176', '234', '225', '244', '303', '334', '346', '367', '377', '406', '410', '446', '391', '403', '377', '376', '326', '318', '312', '281', '283', '301', '347', '399', '421', '375', '395', '361', '375', '404', '400', '437', '475', '480', '516', '548', '557', '573', '516', '524', '526', '518', '530', '539', '581', '605', '543', '490', '542', '514', '490', '431', '328', '376', '302', '299', '304', '301', '312', '247', '212', '229', '243', '253', '199', '174', '162', '115', '106', '91', '91', '59', '56', '44', '42', '27', '29', '29', '19', '10', '17', '8', '7', '8', '2', '13', '43', '62', '76', '77', '93', '96', '116', '101', '128', '138', '135', '121', '122', '123', '121', '132', '187', '170', '177', '195', '237', '269', '268', '273', '258', '276', '287', '299', '278', '252', '208', '216', '200', '205', '198', '230', '195', '243', '236', '278', '280', '268', '232', '245', '230', '286', '284', '330', '362', '387', '407', '379', '421', '360', '393', '355', '339', '362', '365', '403', '450', '400', '359', '373', '341', '351', '300', '287', '299', '198', '218', '233', '209', '215', '203', '168', '161', '166', '219', '195', '115', '124', '113', '85', '79', '70', '50', '51', '38', '26', '23', '20', '19', '16', '13', '7', '2', '7', '1', '1', '18', '91', '149', '158', '182', '154', '215', '243', '236', '259', '266', '249', '257', '296', '298', '274', '236', '283', '277', '266', '335', '349', '312', '351', '336', '306', '340', '355', '337', '330', '340', '314', '309', '310', '284', '295', '265', '321', '339', '371', '361', '390', '389', '341', '344', '389', '395', '471', '470', '492', '541', '504', '491', '485', '462', '432', '456', '463', '471', '510', '549', '603', '534', '526', '503', '473', '472', '422', '297', '371', '217', '240', '228', '236', '233', '185', '140', '149', '148', '184', '171', '150', '122', '125', '117', '101', '101', '91', '85', '57', '57', '32', '34', '26', '20', '19', '8', '9', '7', '1', '2', '10']\n"
     ]
    }
   ],
   "source": [
    "import csv\n",
    "f=open('age1.csv')\n",
    "data=csv.reader(f)\n",
    "result=[]\n",
    "\n",
    "for row in data :\n",
    "    if '방학' in row[0] :\n",
    "        for i in row[3:] :\n",
    "            result.append(i)\n",
    "print(result)"
   ]
  },
  {
   "cell_type": "code",
   "execution_count": 3,
   "metadata": {},
   "outputs": [
    {
     "name": "stdout",
     "output_type": "stream",
     "text": [
      "[81, 100, 118, 147, 159, 172, 177, 185, 207, 183, 209, 194, 198, 242, 197, 176, 234, 225, 244, 303, 334, 346, 367, 377, 406, 410, 446, 391, 403, 377, 376, 326, 318, 312, 281, 283, 301, 347, 399, 421, 375, 395, 361, 375, 404, 400, 437, 475, 480, 516, 548, 557, 573, 516, 524, 526, 518, 530, 539, 581, 605, 543, 490, 542, 514, 490, 431, 328, 376, 302, 299, 304, 301, 312, 247, 212, 229, 243, 253, 199, 174, 162, 115, 106, 91, 91, 59, 56, 44, 42, 27, 29, 29, 19, 10, 17, 8, 7, 8, 2, 13, 43, 62, 76, 77, 93, 96, 116, 101, 128, 138, 135, 121, 122, 123, 121, 132, 187, 170, 177, 195, 237, 269, 268, 273, 258, 276, 287, 299, 278, 252, 208, 216, 200, 205, 198, 230, 195, 243, 236, 278, 280, 268, 232, 245, 230, 286, 284, 330, 362, 387, 407, 379, 421, 360, 393, 355, 339, 362, 365, 403, 450, 400, 359, 373, 341, 351, 300, 287, 299, 198, 218, 233, 209, 215, 203, 168, 161, 166, 219, 195, 115, 124, 113, 85, 79, 70, 50, 51, 38, 26, 23, 20, 19, 16, 13, 7, 2, 7, 1, 1, 18, 91, 149, 158, 182, 154, 215, 243, 236, 259, 266, 249, 257, 296, 298, 274, 236, 283, 277, 266, 335, 349, 312, 351, 336, 306, 340, 355, 337, 330, 340, 314, 309, 310, 284, 295, 265, 321, 339, 371, 361, 390, 389, 341, 344, 389, 395, 471, 470, 492, 541, 504, 491, 485, 462, 432, 456, 463, 471, 510, 549, 603, 534, 526, 503, 473, 472, 422, 297, 371, 217, 240, 228, 236, 233, 185, 140, 149, 148, 184, 171, 150, 122, 125, 117, 101, 101, 91, 85, 57, 57, 32, 34, 26, 20, 19, 8, 9, 7, 1, 2, 10]\n"
     ]
    }
   ],
   "source": [
    "import csv\n",
    "f=open('age1.csv')\n",
    "data=csv.reader(f)\n",
    "result=[]\n",
    "\n",
    "for row in data :\n",
    "    if '방학' in row[0] :\n",
    "        for i in row[3:] :\n",
    "            result.append(int(i))\n",
    "print(result)"
   ]
  },
  {
   "cell_type": "code",
   "execution_count": 4,
   "metadata": {
    "scrolled": true
   },
   "outputs": [
    {
     "data": {
      "image/png": "[encoded data removed]",
      "text/plain": [
       "<Figure size 432x288 with 1 Axes>"
      ]
     },
     "metadata": {},
     "output_type": "display_data"
    }
   ],
   "source": [
    "import matplotlib.pyplot as plt\n",
    "plt.style.use('ggplot')\n",
    "plt.plot(result)\n",
    "plt.show()"
   ]
  },
  {
   "cell_type": "code",
   "execution_count": 5,
   "metadata": {},
   "outputs": [
    {
     "name": "stdout",
     "output_type": "stream",
     "text": [
      "[81, 100, 118, 147, 159, 172, 177, 185, 207, 183, 209, 194, 198, 242, 197, 176, 234, 225, 244, 303, 334, 346, 367, 377, 406, 410, 446, 391, 403, 377, 376, 326, 318, 312, 281, 283, 301, 347, 399, 421, 375, 395, 361, 375, 404, 400, 437, 475, 480, 516, 548, 557, 573, 516, 524, 526, 518, 530, 539, 581, 605, 543, 490, 542, 514, 490, 431, 328, 376, 302, 299, 304, 301, 312, 247, 212, 229, 243, 253, 199, 174, 162, 115, 106, 91, 91, 59, 56, 44, 42, 27, 29, 29, 19, 10, 17, 8, 7, 8, 2, 13, 43, 62, 76, 77, 93, 96, 116, 101, 128, 138, 135, 121, 122, 123, 121, 132, 187, 170, 177, 195, 237, 269, 268, 273, 258, 276, 287, 299, 278, 252, 208, 216, 200, 205, 198, 230, 195, 243, 236, 278, 280, 268, 232, 245, 230, 286, 284, 330, 362, 387, 407, 379, 421, 360, 393, 355, 339, 362, 365, 403, 450, 400, 359, 373, 341, 351, 300, 287, 299, 198, 218, 233, 209, 215, 203, 168, 161, 166, 219, 195, 115, 124, 113, 85, 79, 70, 50, 51, 38, 26, 23, 20, 19, 16, 13, 7, 2, 7, 1, 1, 18, 91, 149, 158, 182, 154, 215, 243, 236, 259, 266, 249, 257, 296, 298, 274, 236, 283, 277, 266, 335, 349, 312, 351, 336, 306, 340, 355, 337, 330, 340, 314, 309, 310, 284, 295, 265, 321, 339, 371, 361, 390, 389, 341, 344, 389, 395, 471, 470, 492, 541, 504, 491, 485, 462, 432, 456, 463, 471, 510, 549, 603, 534, 526, 503, 473, 472, 422, 297, 371, 217, 240, 228, 236, 233, 185, 140, 149, 148, 184, 171, 150, 122, 125, 117, 101, 101, 91, 85, 57, 57, 32, 34, 26, 20, 19, 8, 9, 7, 1, 2, 10]\n"
     ]
    }
   ],
   "source": [
    "import csv\n",
    "f=open('age1.csv')\n",
    "data=csv.reader(f)\n",
    "result=[]\n",
    "\n",
    "for row in data :\n",
    "    if '방학' in row[0] :\n",
    "        for i in row[3:] :\n",
    "            result.append(int(i))\n",
    "print(result)"
   ]
  },
  {
   "cell_type": "markdown",
   "metadata": {},
   "source": [
    "### 원하는 지역의 인구 구조를 알아보기"
   ]
  },
  {
   "cell_type": "code",
   "execution_count": 6,
   "metadata": {},
   "outputs": [],
   "source": [
    "# 그래프 타이틀에 한글 폰트 오류 수정\n",
    "plt.rc('font', family=\"Malgun Gothic\")\n",
    "# 그래프에 음수 오류 수정\n",
    "plt.rcParams[\"axes.unicode_minus\"]=False"
   ]
  },
  {
   "cell_type": "code",
   "execution_count": 7,
   "metadata": {},
   "outputs": [
    {
     "name": "stdout",
     "output_type": "stream",
     "text": [
      "인구구조가 알고 싶은 지역의 이름(읍면동 단위)을 입력해 주세요 : 대림\n",
      "\n"
     ]
    },
    {
     "data": {
      "image/png": "[encoded data removed]",
      "text/plain": [
       "<Figure size 432x288 with 1 Axes>"
      ]
     },
     "metadata": {},
     "output_type": "display_data"
    }
   ],
   "source": [
    "import csv\n",
    "f=open('age1.csv')\n",
    "data=csv.reader(f)\n",
    "result=[]\n",
    "name=input('인구구조가 알고 싶은 지역의 이름(읍면동 단위)을 입력해 주세요 : ') # 알고 싶은 지역명을 검색\n",
    "\n",
    "for row in data:\n",
    "    if name in row[0]: # 검색하고자 하는 지역을 지정\n",
    "        for i in row[3]:\n",
    "            result.append(int(i.replace(',','')))\n",
    "print()\n",
    "\n",
    "import matplotlib.pyplot as plt\n",
    "plt.style.use('ggplot')\n",
    "plt.title(name+' 지역의 인구 구조')\n",
    "plt.plot(result)\n",
    "plt.show()"
   ]
  },
  {
   "cell_type": "markdown",
   "metadata": {},
   "source": [
    "## 인구 구조를 다양한 형태로 시각화 하기\n",
    "### 막대그래프 그리기"
   ]
  },
  {
   "cell_type": "code",
   "execution_count": 8,
   "metadata": {},
   "outputs": [
    {
     "data": {
      "image/png": "[encoded data removed]",
      "text/plain": [
       "<Figure size 432x288 with 1 Axes>"
      ]
     },
     "metadata": {},
     "output_type": "display_data"
    }
   ],
   "source": [
    "plt.bar([0, 1, 2, 4, 6, 10], [1, 2, 3, 5, 6, 7])\n",
    "plt.show()"
   ]
  },
  {
   "cell_type": "code",
   "execution_count": 9,
   "metadata": {},
   "outputs": [
    {
     "data": {
      "image/png": "[encoded data removed]",
      "text/plain": [
       "<Figure size 432x288 with 1 Axes>"
      ]
     },
     "metadata": {},
     "output_type": "display_data"
    }
   ],
   "source": [
    "plt.bar([0, 3, 2, 1, 6, 10], [1, 2, 3, 5, 6, 7])\n",
    "plt.show()"
   ]
  },
  {
   "cell_type": "code",
   "execution_count": 12,
   "metadata": {
    "scrolled": true
   },
   "outputs": [
    {
     "data": {
      "image/png": "[encoded data removed]",
      "text/plain": [
       "<Figure size 432x288 with 1 Axes>"
      ]
     },
     "metadata": {},
     "output_type": "display_data"
    }
   ],
   "source": [
    "plt.bar(range(6), [1, 2, 3, 4, 5, 6]) #range(6) 0~5가 작->큰 순서대로\n",
    "plt.show()"
   ]
  },
  {
   "cell_type": "code",
   "execution_count": 22,
   "metadata": {},
   "outputs": [
    {
     "name": "stdout",
     "output_type": "stream",
     "text": [
      "[252, 320, 310, 316, 390, 414, 394, 388, 401, 410, 402, 352, 404, 373, 337, 340, 305, 328, 339, 328, 414, 370, 385, 415, 421, 491, 424, 444, 440, 496, 467, 509, 605, 588, 610, 599, 641, 752, 699, 753, 694, 742, 656, 643, 635, 582, 670, 664, 622, 618, 588, 573, 543, 465, 480, 551, 498, 404, 496, 510, 498, 456, 480, 430, 381, 469, 368, 350, 352, 260, 272, 267, 260, 269, 185, 147, 154, 140, 165, 133, 125, 100, 102, 85, 80, 68, 57, 33, 43, 27, 18, 19, 13, 11, 8, 10, 4, 8, 2, 2, 10]\n"
     ]
    }
   ],
   "source": [
    "import csv\n",
    "f=open('age1.csv')\n",
    "data=csv.reader(f)\n",
    "result=[]\n",
    "\n",
    "for row in data :\n",
    "    if '신도림' in row[0]:\n",
    "        for i in row[3:]:\n",
    "            result.append(int(i))\n",
    "            \n",
    "print(result)"
   ]
  },
  {
   "cell_type": "code",
   "execution_count": 24,
   "metadata": {},
   "outputs": [
    {
     "data": {
      "text/plain": [
       "<function matplotlib.pyplot.show(close=None, block=None)>"
      ]
     },
     "execution_count": 24,
     "metadata": {},
     "output_type": "execute_result"
    },
    {
     "data": {
      "image/png": "[encoded data removed]",
      "text/plain": [
       "<Figure size 1080x720 with 1 Axes>"
      ]
     },
     "metadata": {},
     "output_type": "display_data"
    }
   ],
   "source": [
    "plt.figure(figsize=(15, 10))\n",
    "plt.bar(range(101), result)\n",
    "plt.show"
   ]
  },
  {
   "cell_type": "code",
   "execution_count": 25,
   "metadata": {
    "scrolled": true
   },
   "outputs": [
    {
     "data": {
      "image/png": "[encoded data removed]",
      "text/plain": [
       "<Figure size 1080x720 with 1 Axes>"
      ]
     },
     "metadata": {},
     "output_type": "display_data"
    }
   ],
   "source": [
    "plt.figure(figsize=(15, 10))\n",
    "plt.barh(range(101), result)\n",
    "plt.show()"
   ]
  },
  {
   "cell_type": "code",
   "execution_count": 34,
   "metadata": {},
   "outputs": [],
   "source": [
    "import csv\n",
    "f=open('gender1.csv')\n",
    "data=csv.reader(f)\n",
    "m=[]\n",
    "f=[]\n",
    "\n",
    "for row in data:\n",
    "    if '방학'in row[0]:\n",
    "        for i in range(0,101):\n",
    "# 남성 연령별 인구수 데이터가 4번째 컬럼에서 시작. 그래서 i+3\n",
    "            m.append(int(row[i+3]))\n",
    "# 여성 연령별 인구수 데이터는 남성 100세 데이터가 끝난 후 시작. 그래서 여성 100세 데이터부터 처리하는 것이 쉬움.\n",
    "# i=0 -> 남성 = 0+3  즉, row[3] : 남성 0세 데이터, 여성 = -(0+1) 즉, row[-1] : 여성 100세 데이터\n",
    "# 따라서 여성 데이터는 reverse를 해서 남성과 동일한 연령으로 맞춰야함\n",
    "            f.append(int(row[-(i+1)]))\n",
    "        break\n",
    "f.reverse()"
   ]
  },
  {
   "cell_type": "code",
   "execution_count": 35,
   "metadata": {},
   "outputs": [
    {
     "name": "stdout",
     "output_type": "stream",
     "text": [
      "[37, 46, 52, 70, 86, 90, 82, 93, 104, 93, 100, 104, 98, 117, 103, 98, 123, 114, 116, 156, 176, 164, 198, 192, 211, 216, 233, 210, 205, 191, 205, 164, 157, 160, 149, 154, 162, 182, 199, 211, 181, 192, 188, 196, 212, 197, 230, 236, 225, 241, 259, 303, 297, 239, 275, 257, 264, 275, 267, 278, 304, 284, 245, 279, 243, 223, 208, 151, 174, 145, 138, 146, 143, 166, 117, 102, 121, 124, 131, 97, 83, 61, 50, 44, 38, 32, 17, 24, 9, 16, 9, 10, 5, 4, 2, 4, 0, 2, 0, 1, 2]\n",
      "[44, 54, 66, 77, 73, 82, 95, 92, 103, 90, 109, 90, 100, 125, 94, 78, 111, 111, 128, 147, 158, 182, 169, 185, 195, 194, 213, 181, 198, 186, 171, 162, 161, 152, 132, 129, 139, 165, 200, 210, 194, 203, 173, 179, 192, 203, 207, 239, 255, 275, 289, 254, 276, 277, 249, 269, 254, 255, 272, 303, 301, 259, 245, 263, 271, 267, 223, 177, 202, 157, 161, 158, 158, 146, 130, 110, 108, 119, 122, 102, 91, 101, 65, 62, 53, 59, 42, 32, 35, 26, 18, 19, 24, 15, 8, 13, 8, 5, 8, 1, 11]\n"
     ]
    }
   ],
   "source": [
    "print(m)\n",
    "print(f)"
   ]
  },
  {
   "cell_type": "code",
   "execution_count": 24,
   "metadata": {},
   "outputs": [],
   "source": [
    "# 여성 데이터를 reverse 시키지 않고, index값을 이용해서 리스트 만드는 것도 가능\n",
    "import csv\n",
    "f=open('gender1.csv')\n",
    "data=csv.reader(f)\n",
    "m1=[]\n",
    "f1=[]\n",
    "\n",
    "for row in data:\n",
    "    if '방학'in row[0]:\n",
    "        for i in row[3:104]:\n",
    "            m1.append(int(i)) \n",
    "        for i in row[106:] :\n",
    "            f1.append(int(i))\n",
    "        break"
   ]
  },
  {
   "cell_type": "code",
   "execution_count": 25,
   "metadata": {},
   "outputs": [
    {
     "name": "stdout",
     "output_type": "stream",
     "text": [
      "[37, 46, 52, 70, 86, 90, 82, 93, 104, 93, 100, 104, 98, 117, 103, 98, 123, 114, 116, 156, 176, 164, 198, 192, 211, 216, 233, 210, 205, 191, 205, 164, 157, 160, 149, 154, 162, 182, 199, 211, 181, 192, 188, 196, 212, 197, 230, 236, 225, 241, 259, 303, 297, 239, 275, 257, 264, 275, 267, 278, 304, 284, 245, 279, 243, 223, 208, 151, 174, 145, 138, 146, 143, 166, 117, 102, 121, 124, 131, 97, 83, 61, 50, 44, 38, 32, 17, 24, 9, 16, 9, 10, 5, 4, 2, 4, 0, 2, 0, 1, 2]\n",
      "[44, 54, 66, 77, 73, 82, 95, 92, 103, 90, 109, 90, 100, 125, 94, 78, 111, 111, 128, 147, 158, 182, 169, 185, 195, 194, 213, 181, 198, 186, 171, 162, 161, 152, 132, 129, 139, 165, 200, 210, 194, 203, 173, 179, 192, 203, 207, 239, 255, 275, 289, 254, 276, 277, 249, 269, 254, 255, 272, 303, 301, 259, 245, 263, 271, 267, 223, 177, 202, 157, 161, 158, 158, 146, 130, 110, 108, 119, 122, 102, 91, 101, 65, 62, 53, 59, 42, 32, 35, 26, 18, 19, 24, 15, 8, 13, 8, 5, 8, 1, 11]\n"
     ]
    }
   ],
   "source": [
    "print(m1)\n",
    "print(f1)"
   ]
  },
  {
   "cell_type": "code",
   "execution_count": 36,
   "metadata": {
    "scrolled": true
   },
   "outputs": [
    {
     "data": {
      "image/png": "[encoded data removed]",
      "text/plain": [
       "<Figure size 1080x720 with 1 Axes>"
      ]
     },
     "metadata": {
      "needs_background": "light"
     },
     "output_type": "display_data"
    }
   ],
   "source": [
    "import matplotlib.pyplot as plt\n",
    "plt.figure(figsize=(15, 10))\n",
    "plt.barh(range(101), m)\n",
    "plt.barh(range(101), f)\n",
    "plt.show()"
   ]
  },
  {
   "cell_type": "code",
   "execution_count": 33,
   "metadata": {
    "scrolled": true
   },
   "outputs": [
    {
     "data": {
      "image/png": "[encoded data removed]",
      "text/plain": [
       "<Figure size 1080x720 with 1 Axes>"
      ]
     },
     "metadata": {
      "needs_background": "light"
     },
     "output_type": "display_data"
    }
   ],
   "source": [
    "import matplotlib.pyplot as plt\n",
    "plt.figure(figsize=(15, 10))\n",
    "plt.barh(range(101), m1)\n",
    "plt.barh(range(101), f1)\n",
    "plt.show()"
   ]
  },
  {
   "cell_type": "code",
   "execution_count": 37,
   "metadata": {},
   "outputs": [],
   "source": [
    "# 남성데이터와 여성데이터를 겹치지 않게 표현하도록 남성 데이터를 마이너스 값으로 저장\n",
    "\n",
    "import csv\n",
    "f=open('gender1.csv')\n",
    "data=csv.reader(f)\n",
    "m1=[]\n",
    "f1=[]\n",
    "\n",
    "for row in data:\n",
    "    if '방학'in row[0]:\n",
    "        for i in row[3:104]:\n",
    "            m1.append(-int(i)) \n",
    "        for i in row[106:] :\n",
    "            f1.append(int(i))\n",
    "        break"
   ]
  },
  {
   "cell_type": "code",
   "execution_count": 49,
   "metadata": {
    "scrolled": true
   },
   "outputs": [
    {
     "data": {
      "image/png": "[encoded data removed]",
      "text/plain": [
       "<Figure size 1080x720 with 1 Axes>"
      ]
     },
     "metadata": {},
     "output_type": "display_data"
    }
   ],
   "source": [
    "import matplotlib.pyplot as plt\n",
    "# 그래프 백그라운드에 격자무늬\n",
    "plt.style.use('ggplot')\n",
    "# 한글폰트 깨지지 않도록\n",
    "plt.rc('font', family=\"Malgun Gothic\")\n",
    "# '-' 표시 깨지지 않도록\n",
    "plt.rcParams['axes.unicode_minus']=False\n",
    "# 그래프 사이즈 지정\n",
    "plt.figure(figsize=(15, 10))\n",
    "\n",
    "plt.barh(range(101), m1, label='남')\n",
    "plt.barh(range(101), f1, label='여')\n",
    "plt.title('방학 지역 남녀 성별 인구 분포')\n",
    "plt.legend()\n",
    "plt.show()"
   ]
  }
 ],
 "metadata": {
  "kernelspec": {
   "display_name": "Python 3",
   "language": "python",
   "name": "python3"
  },
  "language_info": {
   "codemirror_mode": {
    "name": "ipython",
    "version": 3
   },
   "file_extension": ".py",
   "mimetype": "text/x-python",
   "name": "python",
   "nbconvert_exporter": "python",
   "pygments_lexer": "ipython3",
   "version": "3.8.5"
  },
  "toc": {
   "base_numbering": 1,
   "nav_menu": {},
   "number_sections": true,
   "sideBar": true,
   "skip_h1_title": false,
   "title_cell": "Table of Contents",
   "title_sidebar": "Contents",
   "toc_cell": false,
   "toc_position": {},
   "toc_section_display": true,
   "toc_window_display": false
  }
 },
 "nbformat": 4,
 "nbformat_minor": 4
}
